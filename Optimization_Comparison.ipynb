{
  "nbformat": 4,
  "nbformat_minor": 0,
  "metadata": {
    "colab": {
      "provenance": [],
      "gpuType": "T4",
      "authorship_tag": "ABX9TyP5Ppw6E6ZqlWr0icINJCCr",
      "include_colab_link": true
    },
    "kernelspec": {
      "name": "python3",
      "display_name": "Python 3"
    },
    "language_info": {
      "name": "python"
    },
    "accelerator": "GPU"
  },
  "cells": [
    {
      "cell_type": "markdown",
      "metadata": {
        "id": "view-in-github",
        "colab_type": "text"
      },
      "source": [
        "<a href=\"https://colab.research.google.com/github/Siddhant254/Deep-Learning-Concepts/blob/master/Optimization_Comparison.ipynb\" target=\"_parent\"><img src=\"https://colab.research.google.com/assets/colab-badge.svg\" alt=\"Open In Colab\"/></a>"
      ]
    },
    {
      "cell_type": "code",
      "execution_count": 21,
      "metadata": {
        "id": "nyBrthFH3csl"
      },
      "outputs": [],
      "source": [
        "import numpy as np\n",
        "import pandas as pd\n",
        "import tensorflow as tf\n",
        "from tensorflow import keras\n",
        "from keras import Sequential\n",
        "from keras.layers import *\n",
        "from keras.datasets import mnist"
      ]
    },
    {
      "cell_type": "code",
      "source": [
        "(x_train,y_train) , (x_test,y_test) = keras.datasets.mnist.load_data()"
      ],
      "metadata": {
        "id": "ILesQrUb36WZ"
      },
      "execution_count": 22,
      "outputs": []
    },
    {
      "cell_type": "code",
      "source": [
        "x_train.shape"
      ],
      "metadata": {
        "colab": {
          "base_uri": "https://localhost:8080/"
        },
        "id": "AwWPCsQ74KkR",
        "outputId": "6a646e43-5fe5-4228-b3ff-07c2c9b1948b"
      },
      "execution_count": 23,
      "outputs": [
        {
          "output_type": "execute_result",
          "data": {
            "text/plain": [
              "(60000, 28, 28)"
            ]
          },
          "metadata": {},
          "execution_count": 23
        }
      ]
    },
    {
      "cell_type": "code",
      "source": [
        "x_test.shape"
      ],
      "metadata": {
        "colab": {
          "base_uri": "https://localhost:8080/"
        },
        "id": "qrxbaKxV8CB2",
        "outputId": "cfef877f-730b-4ea4-807a-19a6bdeefc64"
      },
      "execution_count": 24,
      "outputs": [
        {
          "output_type": "execute_result",
          "data": {
            "text/plain": [
              "(10000, 28, 28)"
            ]
          },
          "metadata": {},
          "execution_count": 24
        }
      ]
    },
    {
      "cell_type": "code",
      "source": [
        "# Reshaping input\n",
        "x_train = x_train.reshape(x_train.shape[0],28,28,1)\n",
        "x_test = x_test.reshape(x_test.shape[0],28,28,1)\n",
        "input_shape = (28,28,1)\n",
        "x_train = x_train/255.0  # Normalizing\n",
        "x_test = x_test/255.0    # Normalizing\n",
        "\n",
        "y_train = keras.utils.to_categorical(y_train) #Converting to categorical data\n",
        "y_test = keras.utils.to_categorical(y_test) #Converting to categorical data"
      ],
      "metadata": {
        "id": "SYunw1Sq4i-R"
      },
      "execution_count": 25,
      "outputs": []
    },
    {
      "cell_type": "code",
      "source": [
        "x_train.shape"
      ],
      "metadata": {
        "colab": {
          "base_uri": "https://localhost:8080/"
        },
        "id": "QO-NFNJx8Jza",
        "outputId": "95e9549a-26ff-4fa4-cc68-b21a35576b27"
      },
      "execution_count": 26,
      "outputs": [
        {
          "output_type": "execute_result",
          "data": {
            "text/plain": [
              "(60000, 28, 28, 1)"
            ]
          },
          "metadata": {},
          "execution_count": 26
        }
      ]
    },
    {
      "cell_type": "code",
      "source": [
        "# Model Building\n",
        "def model_building(optimizer):\n",
        "  model = Sequential()\n",
        "  model.add(Flatten(input_shape=input_shape))\n",
        "  model.add(Dense(128,activation='relu'))\n",
        "  model.add(Dense(128,activation='relu'))\n",
        "  model.add(Dense(10,activation='softmax'))\n",
        "  model.compile(loss=keras.losses.categorical_crossentropy , optimizer=optimizer , metrics=['accuracy'])\n",
        "  return model"
      ],
      "metadata": {
        "id": "iY7pTJfh5Y6C"
      },
      "execution_count": 27,
      "outputs": []
    },
    {
      "cell_type": "code",
      "source": [
        "optimizers=['Adagrad','Adadelta','SGD','RMSprop','Adam']\n",
        "\n",
        "for i in optimizers:\n",
        "  model = model_building(i)\n",
        "  history = model.fit(x_train,y_train,batch_size=64,epochs=10,validation_data=(x_test,y_test))"
      ],
      "metadata": {
        "colab": {
          "base_uri": "https://localhost:8080/"
        },
        "id": "6kV3jjck6mOT",
        "outputId": "c0723333-0557-4ba4-abdf-0f91dd8d9a74"
      },
      "execution_count": 28,
      "outputs": [
        {
          "output_type": "stream",
          "name": "stdout",
          "text": [
            "Epoch 1/10\n",
            "938/938 [==============================] - 9s 4ms/step - loss: 1.6807 - accuracy: 0.5820 - val_loss: 1.0463 - val_accuracy: 0.7953\n",
            "Epoch 2/10\n",
            "938/938 [==============================] - 5s 5ms/step - loss: 0.8127 - accuracy: 0.8233 - val_loss: 0.6193 - val_accuracy: 0.8613\n",
            "Epoch 3/10\n",
            "938/938 [==============================] - 4s 4ms/step - loss: 0.5714 - accuracy: 0.8618 - val_loss: 0.4854 - val_accuracy: 0.8844\n",
            "Epoch 4/10\n",
            "938/938 [==============================] - 4s 4ms/step - loss: 0.4777 - accuracy: 0.8783 - val_loss: 0.4219 - val_accuracy: 0.8931\n",
            "Epoch 5/10\n",
            "938/938 [==============================] - 4s 4ms/step - loss: 0.4271 - accuracy: 0.8874 - val_loss: 0.3841 - val_accuracy: 0.9000\n",
            "Epoch 6/10\n",
            "938/938 [==============================] - 3s 4ms/step - loss: 0.3950 - accuracy: 0.8939 - val_loss: 0.3594 - val_accuracy: 0.9054\n",
            "Epoch 7/10\n",
            "938/938 [==============================] - 4s 4ms/step - loss: 0.3725 - accuracy: 0.8985 - val_loss: 0.3426 - val_accuracy: 0.9090\n",
            "Epoch 8/10\n",
            "938/938 [==============================] - 4s 4ms/step - loss: 0.3555 - accuracy: 0.9023 - val_loss: 0.3284 - val_accuracy: 0.9107\n",
            "Epoch 9/10\n",
            "938/938 [==============================] - 4s 4ms/step - loss: 0.3420 - accuracy: 0.9053 - val_loss: 0.3171 - val_accuracy: 0.9143\n",
            "Epoch 10/10\n",
            "938/938 [==============================] - 3s 4ms/step - loss: 0.3309 - accuracy: 0.9077 - val_loss: 0.3080 - val_accuracy: 0.9160\n",
            "Epoch 1/10\n",
            "938/938 [==============================] - 5s 4ms/step - loss: 2.3296 - accuracy: 0.0731 - val_loss: 2.2860 - val_accuracy: 0.1016\n",
            "Epoch 2/10\n",
            "938/938 [==============================] - 3s 4ms/step - loss: 2.2395 - accuracy: 0.1594 - val_loss: 2.1973 - val_accuracy: 0.2168\n",
            "Epoch 3/10\n",
            "938/938 [==============================] - 4s 4ms/step - loss: 2.1549 - accuracy: 0.2860 - val_loss: 2.1123 - val_accuracy: 0.3396\n",
            "Epoch 4/10\n",
            "938/938 [==============================] - 3s 4ms/step - loss: 2.0725 - accuracy: 0.3918 - val_loss: 2.0283 - val_accuracy: 0.4333\n",
            "Epoch 5/10\n",
            "938/938 [==============================] - 3s 4ms/step - loss: 1.9896 - accuracy: 0.4669 - val_loss: 1.9425 - val_accuracy: 0.5012\n",
            "Epoch 6/10\n",
            "938/938 [==============================] - 4s 4ms/step - loss: 1.9046 - accuracy: 0.5251 - val_loss: 1.8545 - val_accuracy: 0.5558\n",
            "Epoch 7/10\n",
            "938/938 [==============================] - 4s 4ms/step - loss: 1.8171 - accuracy: 0.5781 - val_loss: 1.7637 - val_accuracy: 0.6034\n",
            "Epoch 8/10\n",
            "938/938 [==============================] - 4s 4ms/step - loss: 1.7273 - accuracy: 0.6228 - val_loss: 1.6714 - val_accuracy: 0.6443\n",
            "Epoch 9/10\n",
            "938/938 [==============================] - 4s 4ms/step - loss: 1.6367 - accuracy: 0.6577 - val_loss: 1.5789 - val_accuracy: 0.6757\n",
            "Epoch 10/10\n",
            "938/938 [==============================] - 4s 5ms/step - loss: 1.5466 - accuracy: 0.6849 - val_loss: 1.4875 - val_accuracy: 0.6981\n",
            "Epoch 1/10\n",
            "938/938 [==============================] - 5s 4ms/step - loss: 0.9224 - accuracy: 0.7539 - val_loss: 0.4184 - val_accuracy: 0.8863\n",
            "Epoch 2/10\n",
            "938/938 [==============================] - 4s 4ms/step - loss: 0.3774 - accuracy: 0.8942 - val_loss: 0.3190 - val_accuracy: 0.9112\n",
            "Epoch 3/10\n",
            "938/938 [==============================] - 4s 5ms/step - loss: 0.3144 - accuracy: 0.9097 - val_loss: 0.2800 - val_accuracy: 0.9204\n",
            "Epoch 4/10\n",
            "938/938 [==============================] - 4s 4ms/step - loss: 0.2795 - accuracy: 0.9201 - val_loss: 0.2575 - val_accuracy: 0.9251\n",
            "Epoch 5/10\n",
            "938/938 [==============================] - 4s 4ms/step - loss: 0.2538 - accuracy: 0.9265 - val_loss: 0.2423 - val_accuracy: 0.9286\n",
            "Epoch 6/10\n",
            "938/938 [==============================] - 4s 4ms/step - loss: 0.2333 - accuracy: 0.9335 - val_loss: 0.2178 - val_accuracy: 0.9371\n",
            "Epoch 7/10\n",
            "938/938 [==============================] - 4s 4ms/step - loss: 0.2158 - accuracy: 0.9381 - val_loss: 0.2035 - val_accuracy: 0.9411\n",
            "Epoch 8/10\n",
            "938/938 [==============================] - 3s 4ms/step - loss: 0.2004 - accuracy: 0.9424 - val_loss: 0.1910 - val_accuracy: 0.9445\n",
            "Epoch 9/10\n",
            "938/938 [==============================] - 4s 4ms/step - loss: 0.1877 - accuracy: 0.9460 - val_loss: 0.1804 - val_accuracy: 0.9469\n",
            "Epoch 10/10\n",
            "938/938 [==============================] - 4s 4ms/step - loss: 0.1762 - accuracy: 0.9488 - val_loss: 0.1716 - val_accuracy: 0.9507\n",
            "Epoch 1/10\n",
            "938/938 [==============================] - 5s 4ms/step - loss: 0.2601 - accuracy: 0.9234 - val_loss: 0.1385 - val_accuracy: 0.9576\n",
            "Epoch 2/10\n",
            "938/938 [==============================] - 4s 5ms/step - loss: 0.1081 - accuracy: 0.9669 - val_loss: 0.1020 - val_accuracy: 0.9674\n",
            "Epoch 3/10\n",
            "938/938 [==============================] - 3s 4ms/step - loss: 0.0759 - accuracy: 0.9768 - val_loss: 0.0834 - val_accuracy: 0.9734\n",
            "Epoch 4/10\n",
            "938/938 [==============================] - 3s 4ms/step - loss: 0.0581 - accuracy: 0.9820 - val_loss: 0.0919 - val_accuracy: 0.9731\n",
            "Epoch 5/10\n",
            "938/938 [==============================] - 4s 4ms/step - loss: 0.0473 - accuracy: 0.9855 - val_loss: 0.0741 - val_accuracy: 0.9782\n",
            "Epoch 6/10\n",
            "938/938 [==============================] - 4s 4ms/step - loss: 0.0377 - accuracy: 0.9884 - val_loss: 0.0866 - val_accuracy: 0.9757\n",
            "Epoch 7/10\n",
            "938/938 [==============================] - 4s 4ms/step - loss: 0.0306 - accuracy: 0.9904 - val_loss: 0.0844 - val_accuracy: 0.9780\n",
            "Epoch 8/10\n",
            "938/938 [==============================] - 3s 4ms/step - loss: 0.0261 - accuracy: 0.9918 - val_loss: 0.0964 - val_accuracy: 0.9753\n",
            "Epoch 9/10\n",
            "938/938 [==============================] - 4s 5ms/step - loss: 0.0213 - accuracy: 0.9934 - val_loss: 0.0915 - val_accuracy: 0.9785\n",
            "Epoch 10/10\n",
            "938/938 [==============================] - 4s 4ms/step - loss: 0.0181 - accuracy: 0.9945 - val_loss: 0.1068 - val_accuracy: 0.9773\n",
            "Epoch 1/10\n",
            "938/938 [==============================] - 6s 5ms/step - loss: 0.2693 - accuracy: 0.9222 - val_loss: 0.1274 - val_accuracy: 0.9626\n",
            "Epoch 2/10\n",
            "938/938 [==============================] - 4s 4ms/step - loss: 0.1100 - accuracy: 0.9669 - val_loss: 0.1027 - val_accuracy: 0.9664\n",
            "Epoch 3/10\n",
            "938/938 [==============================] - 4s 4ms/step - loss: 0.0760 - accuracy: 0.9768 - val_loss: 0.0867 - val_accuracy: 0.9728\n",
            "Epoch 4/10\n",
            "938/938 [==============================] - 4s 4ms/step - loss: 0.0566 - accuracy: 0.9822 - val_loss: 0.0934 - val_accuracy: 0.9721\n",
            "Epoch 5/10\n",
            "938/938 [==============================] - 4s 4ms/step - loss: 0.0454 - accuracy: 0.9852 - val_loss: 0.0738 - val_accuracy: 0.9764\n",
            "Epoch 6/10\n",
            "938/938 [==============================] - 4s 4ms/step - loss: 0.0351 - accuracy: 0.9889 - val_loss: 0.0819 - val_accuracy: 0.9758\n",
            "Epoch 7/10\n",
            "938/938 [==============================] - 4s 4ms/step - loss: 0.0285 - accuracy: 0.9908 - val_loss: 0.0911 - val_accuracy: 0.9747\n",
            "Epoch 8/10\n",
            "938/938 [==============================] - 4s 5ms/step - loss: 0.0260 - accuracy: 0.9915 - val_loss: 0.0810 - val_accuracy: 0.9766\n",
            "Epoch 9/10\n",
            "938/938 [==============================] - 4s 4ms/step - loss: 0.0195 - accuracy: 0.9934 - val_loss: 0.0845 - val_accuracy: 0.9764\n",
            "Epoch 10/10\n",
            "938/938 [==============================] - 4s 4ms/step - loss: 0.0192 - accuracy: 0.9934 - val_loss: 0.0954 - val_accuracy: 0.9746\n"
          ]
        }
      ]
    },
    {
      "cell_type": "code",
      "source": [
        "# Early stopping\n",
        "callback = keras.callbacks.EarlyStopping(\n",
        "    monitor = \"val_loss\",\n",
        "    min_delta = 0.001,\n",
        "    patience=20,\n",
        "    verbose=1)"
      ],
      "metadata": {
        "id": "fLiuEdE29CMv"
      },
      "execution_count": 31,
      "outputs": []
    },
    {
      "cell_type": "code",
      "source": [
        "model = Sequential()\n",
        "model.add(Flatten(input_shape=input_shape))\n",
        "model.add(Dense(128,activation='relu'))\n",
        "model.add(Dense(128,activation='relu'))\n",
        "model.add(Dense(10,activation='softmax'))\n",
        "model.compile(loss=keras.losses.categorical_crossentropy , optimizer='adam' , metrics=['accuracy'])\n",
        "history = model.fit(x_train,y_train,batch_size=64,epochs=5000,validation_data=(x_test,y_test),callbacks=callback)"
      ],
      "metadata": {
        "colab": {
          "base_uri": "https://localhost:8080/"
        },
        "id": "ZA9iMEnW9Kr5",
        "outputId": "8594b5ca-f3f2-4b6c-bcdd-2e9e93fe60c1"
      },
      "execution_count": 32,
      "outputs": [
        {
          "output_type": "stream",
          "name": "stdout",
          "text": [
            "Epoch 1/5000\n",
            "938/938 [==============================] - 5s 4ms/step - loss: 0.2644 - accuracy: 0.9238 - val_loss: 0.1317 - val_accuracy: 0.9603\n",
            "Epoch 2/5000\n",
            "938/938 [==============================] - 4s 4ms/step - loss: 0.1057 - accuracy: 0.9680 - val_loss: 0.0956 - val_accuracy: 0.9717\n",
            "Epoch 3/5000\n",
            "938/938 [==============================] - 4s 5ms/step - loss: 0.0727 - accuracy: 0.9778 - val_loss: 0.0755 - val_accuracy: 0.9758\n",
            "Epoch 4/5000\n",
            "938/938 [==============================] - 4s 4ms/step - loss: 0.0557 - accuracy: 0.9829 - val_loss: 0.0746 - val_accuracy: 0.9772\n",
            "Epoch 5/5000\n",
            "938/938 [==============================] - 4s 4ms/step - loss: 0.0426 - accuracy: 0.9863 - val_loss: 0.0858 - val_accuracy: 0.9737\n",
            "Epoch 6/5000\n",
            "938/938 [==============================] - 5s 5ms/step - loss: 0.0322 - accuracy: 0.9897 - val_loss: 0.0741 - val_accuracy: 0.9782\n",
            "Epoch 7/5000\n",
            "938/938 [==============================] - 4s 4ms/step - loss: 0.0272 - accuracy: 0.9910 - val_loss: 0.0930 - val_accuracy: 0.9735\n",
            "Epoch 8/5000\n",
            "938/938 [==============================] - 4s 4ms/step - loss: 0.0231 - accuracy: 0.9926 - val_loss: 0.0829 - val_accuracy: 0.9784\n",
            "Epoch 9/5000\n",
            "938/938 [==============================] - 4s 5ms/step - loss: 0.0207 - accuracy: 0.9931 - val_loss: 0.0872 - val_accuracy: 0.9767\n",
            "Epoch 10/5000\n",
            "938/938 [==============================] - 4s 4ms/step - loss: 0.0172 - accuracy: 0.9943 - val_loss: 0.0939 - val_accuracy: 0.9763\n",
            "Epoch 11/5000\n",
            "938/938 [==============================] - 4s 4ms/step - loss: 0.0154 - accuracy: 0.9945 - val_loss: 0.0951 - val_accuracy: 0.9776\n",
            "Epoch 12/5000\n",
            "938/938 [==============================] - 4s 4ms/step - loss: 0.0144 - accuracy: 0.9952 - val_loss: 0.0942 - val_accuracy: 0.9776\n",
            "Epoch 13/5000\n",
            "938/938 [==============================] - 4s 4ms/step - loss: 0.0098 - accuracy: 0.9968 - val_loss: 0.0909 - val_accuracy: 0.9813\n",
            "Epoch 14/5000\n",
            "938/938 [==============================] - 4s 4ms/step - loss: 0.0142 - accuracy: 0.9949 - val_loss: 0.1103 - val_accuracy: 0.9744\n",
            "Epoch 15/5000\n",
            "938/938 [==============================] - 4s 4ms/step - loss: 0.0113 - accuracy: 0.9963 - val_loss: 0.0928 - val_accuracy: 0.9795\n",
            "Epoch 16/5000\n",
            "938/938 [==============================] - 4s 5ms/step - loss: 0.0104 - accuracy: 0.9965 - val_loss: 0.1065 - val_accuracy: 0.9782\n",
            "Epoch 17/5000\n",
            "938/938 [==============================] - 4s 4ms/step - loss: 0.0087 - accuracy: 0.9970 - val_loss: 0.1117 - val_accuracy: 0.9781\n",
            "Epoch 18/5000\n",
            "938/938 [==============================] - 4s 4ms/step - loss: 0.0094 - accuracy: 0.9968 - val_loss: 0.1163 - val_accuracy: 0.9764\n",
            "Epoch 19/5000\n",
            "938/938 [==============================] - 4s 5ms/step - loss: 0.0084 - accuracy: 0.9974 - val_loss: 0.1044 - val_accuracy: 0.9797\n",
            "Epoch 20/5000\n",
            "938/938 [==============================] - 4s 4ms/step - loss: 0.0099 - accuracy: 0.9969 - val_loss: 0.1084 - val_accuracy: 0.9800\n",
            "Epoch 21/5000\n",
            "938/938 [==============================] - 4s 4ms/step - loss: 0.0088 - accuracy: 0.9969 - val_loss: 0.1145 - val_accuracy: 0.9794\n",
            "Epoch 22/5000\n",
            "938/938 [==============================] - 4s 5ms/step - loss: 0.0066 - accuracy: 0.9977 - val_loss: 0.1201 - val_accuracy: 0.9794\n",
            "Epoch 23/5000\n",
            "938/938 [==============================] - 4s 4ms/step - loss: 0.0076 - accuracy: 0.9973 - val_loss: 0.1026 - val_accuracy: 0.9811\n",
            "Epoch 24/5000\n",
            "938/938 [==============================] - 4s 4ms/step - loss: 0.0051 - accuracy: 0.9984 - val_loss: 0.1299 - val_accuracy: 0.9761\n",
            "Epoch 25/5000\n",
            "938/938 [==============================] - 4s 4ms/step - loss: 0.0097 - accuracy: 0.9968 - val_loss: 0.1113 - val_accuracy: 0.9809\n",
            "Epoch 26/5000\n",
            "938/938 [==============================] - 4s 4ms/step - loss: 0.0050 - accuracy: 0.9985 - val_loss: 0.1132 - val_accuracy: 0.9807\n",
            "Epoch 26: early stopping\n"
          ]
        }
      ]
    },
    {
      "cell_type": "code",
      "source": [
        " import matplotlib.pyplot as plt\n",
        " plt.plot(history.history['loss'],label='train')\n",
        " plt.plot(history.history['val_loss'],label='test')\n",
        " plt.legend()\n",
        " plt.show()"
      ],
      "metadata": {
        "colab": {
          "base_uri": "https://localhost:8080/",
          "height": 430
        },
        "id": "O4yB4GX4BQgL",
        "outputId": "ae337f49-f2d3-4084-b574-b10e1d4e19da"
      },
      "execution_count": 33,
      "outputs": [
        {
          "output_type": "display_data",
          "data": {
            "text/plain": [
              "<Figure size 640x480 with 1 Axes>"
            ],
            "image/png": "[encoded data removed]"
          },
          "metadata": {}
        }
      ]
    },
    {
      "cell_type": "code",
      "source": [
        "plt.plot(history.history['accuracy'],label='train')\n",
        "plt.plot(history.history['val_accuracy'],label='test')\n",
        "plt.legend()\n",
        "plt.show()"
      ],
      "metadata": {
        "colab": {
          "base_uri": "https://localhost:8080/",
          "height": 430
        },
        "id": "kP0XBQ0UCHGv",
        "outputId": "46fe16d3-84f3-4ae7-b722-879a0655ceb5"
      },
      "execution_count": 34,
      "outputs": [
        {
          "output_type": "display_data",
          "data": {
            "text/plain": [
              "<Figure size 640x480 with 1 Axes>"
            ],
            "image/png": "[encoded data removed]"
          },
          "metadata": {}
        }
      ]
    },
    {
      "cell_type": "code",
      "source": [],
      "metadata": {
        "id": "S0ivFBtPCcG_"
      },
      "execution_count": null,
      "outputs": []
    }
  ]
}